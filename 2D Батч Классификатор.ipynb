{
 "cells": [
  {
   "cell_type": "markdown",
   "metadata": {
    "id": "g1-PD9QzDP58"
   },
   "source": [
    "❗TODO\n",
    "---"
   ]
  },
  {
   "cell_type": "markdown",
   "metadata": {
    "id": "8hl5FDzVMOhe"
   },
   "source": [
    "\n",
    "1. Придумать как угадать сдвиг (фон паддинга???)\n",
    "2. Подобрать паддинг относительно размеров картинки (судя по всему - размер/8)\n",
    "3. Обеспечить безопасное сохранение данных (блок перезаписи)\n",
    "4. Сделать автосоставление модели нейронной сети по массиву\n",
    "\n"
   ]
  },
  {
   "cell_type": "markdown",
   "metadata": {
    "id": "a8p99S4HJyr1"
   },
   "source": [
    "⚙ Настройки\n",
    "---"
   ]
  },
  {
   "cell_type": "code",
   "execution_count": 1,
   "metadata": {
    "colab": {
     "base_uri": "https://localhost:8080/"
    },
    "id": "XoiEGqp8gI5r",
    "outputId": "4c4dfe14-341c-4e99-d92f-b2d242902946"
   },
   "outputs": [],
   "source": [
    "# from google.colab import drive\n",
    "# drive.mount('/content/drive')"
   ]
  },
  {
   "cell_type": "code",
   "execution_count": 2,
   "metadata": {
    "colab": {
     "base_uri": "https://localhost:8080/"
    },
    "id": "JBl31Lpmjdbc",
    "outputId": "d58667a8-668f-47d0-a174-6ad0bbc95ffb"
   },
   "outputs": [
    {
     "name": "stdout",
     "output_type": "stream",
     "text": [
      "Sun Feb 19 10:56:28 2023       \n",
      "+-----------------------------------------------------------------------------+\n",
      "| NVIDIA-SMI 515.65.01    Driver Version: 515.65.01    CUDA Version: 11.7     |\n",
      "|-------------------------------+----------------------+----------------------+\n",
      "| GPU  Name        Persistence-M| Bus-Id        Disp.A | Volatile Uncorr. ECC |\n",
      "| Fan  Temp  Perf  Pwr:Usage/Cap|         Memory-Usage | GPU-Util  Compute M. |\n",
      "|                               |                      |               MIG M. |\n",
      "|===============================+======================+======================|\n",
      "|   0  Tesla V100-PCIE...  Off  | 00000000:06:00.0 Off |                    0 |\n",
      "| N/A   36C    P0    34W / 250W |  31639MiB / 32768MiB |      0%      Default |\n",
      "|                               |                      |                  N/A |\n",
      "+-------------------------------+----------------------+----------------------+\n",
      "                                                                               \n",
      "+-----------------------------------------------------------------------------+\n",
      "| Processes:                                                                  |\n",
      "|  GPU   GI   CI        PID   Type   Process name                  GPU Memory |\n",
      "|        ID   ID                                                   Usage      |\n",
      "|=============================================================================|\n",
      "+-----------------------------------------------------------------------------+\n"
     ]
    }
   ],
   "source": [
    "!nvidia-smi"
   ]
  },
  {
   "cell_type": "code",
   "execution_count": 3,
   "metadata": {
    "id": "oP4FMfuQJ8gM"
   },
   "outputs": [],
   "source": [
    "#@title Настройки картинок { run: \"auto\", vertical-output: true }\n",
    "\n",
    "Dim_XY = 50 #@param {type:\"integer\"} # Размеры картинок \n",
    "Padding = 20 #@param {type:\"integer\"} # Размер паддинга\n",
    "\n",
    "pics_folder_Path = \"/home/roloroma/PyTorch/pics/\"\n",
    "pics_Name = \"lenna\" #@param [\"lenna\", \"strelka\", \"kristall\", \"tor_vir\"]\n",
    "pics_Path = pics_folder_Path+'/'+pics_Name+'/'\n",
    "\n",
    "\n",
    "#@markdown \n",
    "#@markdown Для разделения мнимой и действ. картинок\n",
    "Different_ON = False #@param {type:\"boolean\"}\n",
    "Original_Is_Real_ON = False #@param {type:\"boolean\"}\n",
    "Different_Is_Real_ON = False #@param {type:\"boolean\"}\n",
    "if Different_ON:\n",
    "    imag_pics_Name =  \"test\" #@param [\"test\", \"kristall\", \"tor_vir\"] {allow-input: true}\n",
    "    imag_pics_Path = pics_folder_Path+'/'+imag_pics_Name+'/'\n",
    "\n",
    "#@markdown \n",
    "#@markdown Замена картинки на белое изображение\n",
    "Real_Zeros_ON = False #@param {type:\"boolean\"}\n",
    "Imag_Zeros_ON = True #@param {type:\"boolean\"}\n",
    "\n",
    "#@markdown \n",
    "#@markdown Загрузка собственного изображения\n",
    "Real_My_ON = False #@param {type:\"boolean\"}\n",
    "Imag_My_ON = False #@param {type:\"boolean\"}\n",
    "\n",
    "#@markdown \n",
    "#@markdown Поменять местами картинки\n",
    "Real_Imag_Swap_ON = True #@param {type:\"boolean\"}"
   ]
  },
  {
   "cell_type": "code",
   "execution_count": 4,
   "metadata": {
    "id": "AjMUxr523D7s"
   },
   "outputs": [],
   "source": [
    "#@title Настройки входного датасета { run: \"auto\", vertical-output: true }\n",
    "Dataset_Size = 12000 #@param {type:\"integer\"} # Размер датасета\n",
    "Batch_Size = 1000 #@param {type:\"integer\"} # Размер батча"
   ]
  },
  {
   "cell_type": "code",
   "execution_count": 5,
   "metadata": {
    "id": "aJMvhYRyKn4z"
   },
   "outputs": [],
   "source": [
    "#@title Загрузка/Тренировка/Сохранение модели { run: \"auto\", vertical-output: true }\n",
    "Load_ON = False #@param {type:\"boolean\"}\n",
    "Train_ON = True #@param {type:\"boolean\"}\n",
    "Save_ON = True #@param {type:\"boolean\"}\n",
    "postfix = \"_Batch\" #@param {type:\"string\"}\n",
    "\n",
    "model_folder_Path = \"/home/roloroma/PyTorch/models/\" # Путь до сохраненных моделей\n",
    "model_filename = '2D Батч Классификатор ' + pics_Name + ' ' + str(Dim_XY)+'x'+str(Dim_XY)+' padding'+str(Padding)+postfix+'.pt'\n"
   ]
  },
  {
   "cell_type": "code",
   "execution_count": 6,
   "metadata": {
    "id": "bhpcAcQVnqXS"
   },
   "outputs": [],
   "source": [
    "#@title Параметры обучения { run: \"auto\", vertical-output: true }\n",
    "epochs_Num = 150000 #@param {type:\"integer\"} # Количество эпох\n",
    "loss_break = 0.05 #@param {type:\"number\"} # Значение loss для принудительной остановки\n"
   ]
  },
  {
   "cell_type": "markdown",
   "metadata": {
    "id": "kOSeOjLwJKOK"
   },
   "source": [
    "🧰 Импорты и утилити функции\n",
    "---"
   ]
  },
  {
   "cell_type": "code",
   "execution_count": 7,
   "metadata": {
    "colab": {
     "base_uri": "https://localhost:8080/"
    },
    "id": "E2Vu3p-RlYpa",
    "outputId": "1cc04491-3116-4ceb-d8f8-9145f7531c5e"
   },
   "outputs": [
    {
     "ename": "KeyboardInterrupt",
     "evalue": "",
     "output_type": "error",
     "traceback": [
      "\u001b[0;31m---------------------------------------------------------------------------\u001b[0m",
      "\u001b[0;31mKeyboardInterrupt\u001b[0m                         Traceback (most recent call last)",
      "Input \u001b[0;32mIn [7]\u001b[0m, in \u001b[0;36m<cell line: 4>\u001b[0;34m()\u001b[0m\n\u001b[1;32m      1\u001b[0m \u001b[38;5;66;03m# !conda install torchinfo\u001b[39;00m\n\u001b[1;32m      2\u001b[0m \u001b[38;5;66;03m# !conda install torchviz\u001b[39;00m\n\u001b[0;32m----> 4\u001b[0m \u001b[38;5;28;01mimport\u001b[39;00m \u001b[38;5;21;01mtorch\u001b[39;00m\n\u001b[1;32m      5\u001b[0m \u001b[38;5;28;01mimport\u001b[39;00m \u001b[38;5;21;01mtorch\u001b[39;00m\u001b[38;5;21;01m.\u001b[39;00m\u001b[38;5;21;01mnn\u001b[39;00m \u001b[38;5;28;01mas\u001b[39;00m \u001b[38;5;21;01mnn\u001b[39;00m\n\u001b[1;32m      6\u001b[0m \u001b[38;5;28;01mimport\u001b[39;00m \u001b[38;5;21;01mtorch\u001b[39;00m\u001b[38;5;21;01m.\u001b[39;00m\u001b[38;5;21;01mnn\u001b[39;00m\u001b[38;5;21;01m.\u001b[39;00m\u001b[38;5;21;01mfunctional\u001b[39;00m \u001b[38;5;28;01mas\u001b[39;00m \u001b[38;5;21;01mF\u001b[39;00m\n",
      "File \u001b[0;32m~/.conda/envs/MOD/lib/python3.9/site-packages/torch/__init__.py:676\u001b[0m, in \u001b[0;36m<module>\u001b[0;34m\u001b[0m\n\u001b[1;32m    671\u001b[0m \u001b[38;5;66;03m################################################################################\u001b[39;00m\n\u001b[1;32m    672\u001b[0m \u001b[38;5;66;03m# Define Storage and Tensor classes\u001b[39;00m\n\u001b[1;32m    673\u001b[0m \u001b[38;5;66;03m################################################################################\u001b[39;00m\n\u001b[1;32m    675\u001b[0m \u001b[38;5;28;01mfrom\u001b[39;00m \u001b[38;5;21;01m.\u001b[39;00m\u001b[38;5;21;01m_tensor\u001b[39;00m \u001b[38;5;28;01mimport\u001b[39;00m Tensor\n\u001b[0;32m--> 676\u001b[0m \u001b[38;5;28;01mfrom\u001b[39;00m \u001b[38;5;21;01m.\u001b[39;00m\u001b[38;5;21;01mstorage\u001b[39;00m \u001b[38;5;28;01mimport\u001b[39;00m _StorageBase, TypedStorage, _LegacyStorage, UntypedStorage\n\u001b[1;32m    678\u001b[0m \u001b[38;5;66;03m# NOTE: New <type>Storage classes should never be added. When adding a new\u001b[39;00m\n\u001b[1;32m    679\u001b[0m \u001b[38;5;66;03m# dtype, use torch.storage.TypedStorage directly.\u001b[39;00m\n\u001b[1;32m    681\u001b[0m \u001b[38;5;28;01mclass\u001b[39;00m \u001b[38;5;21;01mByteStorage\u001b[39;00m(_LegacyStorage):\n",
      "File \u001b[0;32m~/.conda/envs/MOD/lib/python3.9/site-packages/torch/storage.py:11\u001b[0m, in \u001b[0;36m<module>\u001b[0;34m\u001b[0m\n\u001b[1;32m      9\u001b[0m \u001b[38;5;28;01mfrom\u001b[39;00m \u001b[38;5;21;01mfunctools\u001b[39;00m \u001b[38;5;28;01mimport\u001b[39;00m lru_cache\n\u001b[1;32m     10\u001b[0m \u001b[38;5;28;01mtry\u001b[39;00m:\n\u001b[0;32m---> 11\u001b[0m     \u001b[38;5;28;01mimport\u001b[39;00m \u001b[38;5;21;01mnumpy\u001b[39;00m \u001b[38;5;28;01mas\u001b[39;00m \u001b[38;5;21;01mnp\u001b[39;00m\n\u001b[1;32m     12\u001b[0m     HAS_NUMPY \u001b[38;5;241m=\u001b[39m \u001b[38;5;28;01mTrue\u001b[39;00m\n\u001b[1;32m     13\u001b[0m \u001b[38;5;28;01mexcept\u001b[39;00m \u001b[38;5;167;01mModuleNotFoundError\u001b[39;00m:\n",
      "File \u001b[0;32m~/.conda/envs/MOD/lib/python3.9/site-packages/numpy/__init__.py:141\u001b[0m, in \u001b[0;36m<module>\u001b[0;34m\u001b[0m\n\u001b[1;32m    138\u001b[0m \u001b[38;5;66;03m# Allow distributors to run custom init code\u001b[39;00m\n\u001b[1;32m    139\u001b[0m \u001b[38;5;28;01mfrom\u001b[39;00m \u001b[38;5;21;01m.\u001b[39;00m \u001b[38;5;28;01mimport\u001b[39;00m _distributor_init\n\u001b[0;32m--> 141\u001b[0m \u001b[38;5;28;01mfrom\u001b[39;00m \u001b[38;5;21;01m.\u001b[39;00m \u001b[38;5;28;01mimport\u001b[39;00m core\n\u001b[1;32m    142\u001b[0m \u001b[38;5;28;01mfrom\u001b[39;00m \u001b[38;5;21;01m.\u001b[39;00m\u001b[38;5;21;01mcore\u001b[39;00m \u001b[38;5;28;01mimport\u001b[39;00m \u001b[38;5;241m*\u001b[39m\n\u001b[1;32m    143\u001b[0m \u001b[38;5;28;01mfrom\u001b[39;00m \u001b[38;5;21;01m.\u001b[39;00m \u001b[38;5;28;01mimport\u001b[39;00m compat\n",
      "File \u001b[0;32m~/.conda/envs/MOD/lib/python3.9/site-packages/numpy/core/__init__.py:73\u001b[0m, in \u001b[0;36m<module>\u001b[0;34m\u001b[0m\n\u001b[1;32m     71\u001b[0m \u001b[38;5;28;01mfrom\u001b[39;00m \u001b[38;5;21;01m.\u001b[39;00m \u001b[38;5;28;01mimport\u001b[39;00m numerictypes \u001b[38;5;28;01mas\u001b[39;00m nt\n\u001b[1;32m     72\u001b[0m multiarray\u001b[38;5;241m.\u001b[39mset_typeDict(nt\u001b[38;5;241m.\u001b[39msctypeDict)\n\u001b[0;32m---> 73\u001b[0m \u001b[38;5;28;01mfrom\u001b[39;00m \u001b[38;5;21;01m.\u001b[39;00m \u001b[38;5;28;01mimport\u001b[39;00m numeric\n\u001b[1;32m     74\u001b[0m \u001b[38;5;28;01mfrom\u001b[39;00m \u001b[38;5;21;01m.\u001b[39;00m\u001b[38;5;21;01mnumeric\u001b[39;00m \u001b[38;5;28;01mimport\u001b[39;00m \u001b[38;5;241m*\u001b[39m\n\u001b[1;32m     75\u001b[0m \u001b[38;5;28;01mfrom\u001b[39;00m \u001b[38;5;21;01m.\u001b[39;00m \u001b[38;5;28;01mimport\u001b[39;00m fromnumeric\n",
      "File \u001b[0;32m~/.conda/envs/MOD/lib/python3.9/site-packages/numpy/core/numeric.py:24\u001b[0m, in \u001b[0;36m<module>\u001b[0;34m\u001b[0m\n\u001b[1;32m     22\u001b[0m \u001b[38;5;28;01mfrom\u001b[39;00m \u001b[38;5;21;01m.\u001b[39;00m \u001b[38;5;28;01mimport\u001b[39;00m overrides\n\u001b[1;32m     23\u001b[0m \u001b[38;5;28;01mfrom\u001b[39;00m \u001b[38;5;21;01m.\u001b[39;00m \u001b[38;5;28;01mimport\u001b[39;00m umath\n\u001b[0;32m---> 24\u001b[0m \u001b[38;5;28;01mfrom\u001b[39;00m \u001b[38;5;21;01m.\u001b[39;00m \u001b[38;5;28;01mimport\u001b[39;00m shape_base\n\u001b[1;32m     25\u001b[0m \u001b[38;5;28;01mfrom\u001b[39;00m \u001b[38;5;21;01m.\u001b[39;00m\u001b[38;5;21;01moverrides\u001b[39;00m \u001b[38;5;28;01mimport\u001b[39;00m set_array_function_like_doc, set_module\n\u001b[1;32m     26\u001b[0m \u001b[38;5;28;01mfrom\u001b[39;00m \u001b[38;5;21;01m.\u001b[39;00m\u001b[38;5;21;01mumath\u001b[39;00m \u001b[38;5;28;01mimport\u001b[39;00m (multiply, invert, sin, PINF, NAN)\n",
      "File \u001b[0;32m~/.conda/envs/MOD/lib/python3.9/site-packages/numpy/core/shape_base.py:12\u001b[0m, in \u001b[0;36m<module>\u001b[0;34m\u001b[0m\n\u001b[1;32m     10\u001b[0m \u001b[38;5;28;01mfrom\u001b[39;00m \u001b[38;5;21;01m.\u001b[39;00m \u001b[38;5;28;01mimport\u001b[39;00m overrides\n\u001b[1;32m     11\u001b[0m \u001b[38;5;28;01mfrom\u001b[39;00m \u001b[38;5;21;01m.\u001b[39;00m\u001b[38;5;21;01mmultiarray\u001b[39;00m \u001b[38;5;28;01mimport\u001b[39;00m array, asanyarray, normalize_axis_index\n\u001b[0;32m---> 12\u001b[0m \u001b[38;5;28;01mfrom\u001b[39;00m \u001b[38;5;21;01m.\u001b[39;00m \u001b[38;5;28;01mimport\u001b[39;00m fromnumeric \u001b[38;5;28;01mas\u001b[39;00m _from_nx\n\u001b[1;32m     15\u001b[0m array_function_dispatch \u001b[38;5;241m=\u001b[39m functools\u001b[38;5;241m.\u001b[39mpartial(\n\u001b[1;32m     16\u001b[0m     overrides\u001b[38;5;241m.\u001b[39marray_function_dispatch, module\u001b[38;5;241m=\u001b[39m\u001b[38;5;124m'\u001b[39m\u001b[38;5;124mnumpy\u001b[39m\u001b[38;5;124m'\u001b[39m)\n\u001b[1;32m     19\u001b[0m \u001b[38;5;28;01mdef\u001b[39;00m \u001b[38;5;21m_atleast_1d_dispatcher\u001b[39m(\u001b[38;5;241m*\u001b[39marys):\n",
      "File \u001b[0;32m~/.conda/envs/MOD/lib/python3.9/site-packages/numpy/core/fromnumeric.py:14\u001b[0m, in \u001b[0;36m<module>\u001b[0;34m\u001b[0m\n\u001b[1;32m     12\u001b[0m \u001b[38;5;28;01mfrom\u001b[39;00m \u001b[38;5;21;01m.\u001b[39;00m \u001b[38;5;28;01mimport\u001b[39;00m numerictypes \u001b[38;5;28;01mas\u001b[39;00m nt\n\u001b[1;32m     13\u001b[0m \u001b[38;5;28;01mfrom\u001b[39;00m \u001b[38;5;21;01m.\u001b[39;00m\u001b[38;5;21;01mmultiarray\u001b[39;00m \u001b[38;5;28;01mimport\u001b[39;00m asarray, array, asanyarray, concatenate\n\u001b[0;32m---> 14\u001b[0m \u001b[38;5;28;01mfrom\u001b[39;00m \u001b[38;5;21;01m.\u001b[39;00m \u001b[38;5;28;01mimport\u001b[39;00m _methods\n\u001b[1;32m     16\u001b[0m _dt_ \u001b[38;5;241m=\u001b[39m nt\u001b[38;5;241m.\u001b[39msctype2char\n\u001b[1;32m     18\u001b[0m \u001b[38;5;66;03m# functions that are methods\u001b[39;00m\n",
      "File \u001b[0;32m~/.conda/envs/MOD/lib/python3.9/site-packages/numpy/core/_methods.py:14\u001b[0m, in \u001b[0;36m<module>\u001b[0;34m\u001b[0m\n\u001b[1;32m     12\u001b[0m \u001b[38;5;28;01mfrom\u001b[39;00m \u001b[38;5;21;01mnumpy\u001b[39;00m\u001b[38;5;21;01m.\u001b[39;00m\u001b[38;5;21;01mcore\u001b[39;00m \u001b[38;5;28;01mimport\u001b[39;00m numerictypes \u001b[38;5;28;01mas\u001b[39;00m nt\n\u001b[1;32m     13\u001b[0m \u001b[38;5;28;01mfrom\u001b[39;00m \u001b[38;5;21;01mnumpy\u001b[39;00m\u001b[38;5;21;01m.\u001b[39;00m\u001b[38;5;21;01mcore\u001b[39;00m \u001b[38;5;28;01mimport\u001b[39;00m _exceptions\n\u001b[0;32m---> 14\u001b[0m \u001b[38;5;28;01mfrom\u001b[39;00m \u001b[38;5;21;01mnumpy\u001b[39;00m\u001b[38;5;21;01m.\u001b[39;00m\u001b[38;5;21;01mcore\u001b[39;00m\u001b[38;5;21;01m.\u001b[39;00m\u001b[38;5;21;01m_ufunc_config\u001b[39;00m \u001b[38;5;28;01mimport\u001b[39;00m _no_nep50_warning\n\u001b[1;32m     15\u001b[0m \u001b[38;5;28;01mfrom\u001b[39;00m \u001b[38;5;21;01mnumpy\u001b[39;00m\u001b[38;5;21;01m.\u001b[39;00m\u001b[38;5;21;01m_globals\u001b[39;00m \u001b[38;5;28;01mimport\u001b[39;00m _NoValue\n\u001b[1;32m     16\u001b[0m \u001b[38;5;28;01mfrom\u001b[39;00m \u001b[38;5;21;01mnumpy\u001b[39;00m\u001b[38;5;21;01m.\u001b[39;00m\u001b[38;5;21;01mcompat\u001b[39;00m \u001b[38;5;28;01mimport\u001b[39;00m pickle, os_fspath\n",
      "File \u001b[0;32m<frozen importlib._bootstrap>:1007\u001b[0m, in \u001b[0;36m_find_and_load\u001b[0;34m(name, import_)\u001b[0m\n",
      "File \u001b[0;32m<frozen importlib._bootstrap>:986\u001b[0m, in \u001b[0;36m_find_and_load_unlocked\u001b[0;34m(name, import_)\u001b[0m\n",
      "File \u001b[0;32m<frozen importlib._bootstrap>:680\u001b[0m, in \u001b[0;36m_load_unlocked\u001b[0;34m(spec)\u001b[0m\n",
      "File \u001b[0;32m<frozen importlib._bootstrap_external>:846\u001b[0m, in \u001b[0;36mexec_module\u001b[0;34m(self, module)\u001b[0m\n",
      "File \u001b[0;32m<frozen importlib._bootstrap_external>:941\u001b[0m, in \u001b[0;36mget_code\u001b[0;34m(self, fullname)\u001b[0m\n",
      "File \u001b[0;32m<frozen importlib._bootstrap_external>:1039\u001b[0m, in \u001b[0;36mget_data\u001b[0;34m(self, path)\u001b[0m\n",
      "\u001b[0;31mKeyboardInterrupt\u001b[0m: "
     ]
    }
   ],
   "source": [
    "# !conda install torchinfo\n",
    "# !conda install torchviz\n",
    "\n",
    "import torch\n",
    "import torch.nn as nn\n",
    "import torch.nn.functional as F\n",
    "import torchvision\n",
    "import torchvision.transforms as transforms\n",
    "from torch.utils.data import Dataset, Subset, DataLoader\n",
    "# from sklearn.metrics import confusion_matrix\n",
    "import pandas as pd\n",
    "\n",
    "# from torchinfo import summary\n",
    "# from torchviz import make_dot\n",
    "\n",
    "# import torchinfo\n",
    "# import torchviz\n",
    "\n",
    "import math\n",
    "import numpy as np\n",
    "import itertools\n",
    "\n",
    "from PIL import Image\n",
    "import matplotlib\n",
    "import matplotlib.pyplot as plt\n",
    "import matplotlib.image as mpimg\n",
    "\n",
    "import random\n",
    "\n",
    "device = torch.device(\"cuda\" if torch.cuda.is_available() else \"cpu\") \n",
    "print(device)"
   ]
  },
  {
   "cell_type": "code",
   "execution_count": null,
   "metadata": {
    "id": "RT3Wl_WVjj81"
   },
   "outputs": [],
   "source": [
    "import matplotlib.colors as colors\n",
    "import matplotlib.patches as mpatches\n",
    "from mpl_toolkits.axes_grid1 import make_axes_locatable\n",
    "\n",
    "# Функция расчета разницы между фазами на кольце [0, 2pi]\n",
    "def ring_alg(a,b):\n",
    "    return math.pi - np.abs(np.abs(a-b)-math.pi)\n",
    "\n",
    "def plot_image(image, axis, logscale=False, colorbar=True, vmin=None, vmax=None, interpolation='nearest', title = '', fontsize = 20, **kwargs):\n",
    "    \"\"\"Plot image to axis with optional logscale and colorbar\n",
    "\n",
    "    Keyword arguments:\n",
    "    image -- 2D array with data to show\n",
    "    axis -- matplotlib axis to plot\n",
    "    logscale -- use logscale\n",
    "    colorbar -- add colorbar to image\n",
    "    vmin -- minimal value of colormap\n",
    "    vmax -- miximum value of colormap\n",
    "    \"\"\"\n",
    "    if vmin is None and logscale:\n",
    "        vmin = max(1, np.amin(image))\n",
    "    elif vmin is None:\n",
    "        vmin = np.amin(image)\n",
    "\n",
    "    if vmax is None:\n",
    "        vmax = np.amax(image)\n",
    "\n",
    "    if logscale:\n",
    "        norm = colors.LogNorm(vmin=vmin, vmax=vmax)\n",
    "    else:\n",
    "        norm = colors.Normalize(vmin=vmin, vmax=vmax)\n",
    "\n",
    "    im_handle = axis.imshow(image, norm=norm, interpolation=interpolation, **kwargs)\n",
    "    axis.set_xticks([])\n",
    "    axis.set_yticks([])\n",
    "\n",
    "    axis.set_title(title, fontsize=fontsize)\n",
    "\n",
    "    if colorbar:\n",
    "        divider = make_axes_locatable(axis)\n",
    "        cb_axis = divider.append_axes(\"right\", size=\"5%\", pad=0.05)\n",
    "        plt.colorbar(im_handle, cax=cb_axis)"
   ]
  },
  {
   "cell_type": "code",
   "execution_count": null,
   "metadata": {
    "id": "wEssMR_2ehH6"
   },
   "outputs": [],
   "source": [
    "def fftn_shift(real_data, dim=None):\n",
    "    return torch.fft.fftshift(torch.fft.fftn(torch.fft.ifftshift(real_data, dim), dim = dim), dim)\n",
    "\n",
    "def ifftn_shift(recip_data, dim=None):\n",
    "    return torch.fft.fftshift(torch.fft.ifftn(torch.fft.ifftshift(recip_data, dim), dim = dim), dim)\n",
    "\n",
    "def fftn_shift_list(real_data):\n",
    "    new_recip_data, new_recip_data_nopad, new_real_data = [], [], []\n",
    "    for (d, l) in real_data:\n",
    "        d = d.to(device)\n",
    "        new_real_data.append(d)\n",
    "        new_recip_data_nopad.append(torch.fft.fftshift(torch.fft.fftn(torch.fft.ifftshift(d))).abs())\n",
    "        d = torch.nn.functional.pad(d, (Padding, Padding, Padding, Padding))\n",
    "        new_recip_data.append(torch.fft.fftshift(torch.fft.fftn(torch.fft.ifftshift(d))).abs())\n",
    "    return torch.stack(new_recip_data), torch.stack(new_recip_data_nopad), torch.stack(new_real_data)\n",
    "\n",
    "def ifftn_shift_list(recip_data):\n",
    "    new_real_data, new_recip_data = [], []\n",
    "    for d in recip_data:\n",
    "        new_real_data.append(torch.fft.fftshift(torch.fft.ifftn(torch.fft.ifftshift(d)))[Padding:-Padding,Padding:-Padding])\n",
    "        new_recip_data.append(d)\n",
    "    return new_real_data, new_recip_data\n",
    "\n",
    "# def fftn_shift(real_data):\n",
    "#     return torch.fft.fftn(real_data, norm='ortho')\n",
    "\n",
    "# def ifftn_shift(recip_data):\n",
    "#     return torch.fft.ifftn(recip_data, norm='ortho')"
   ]
  },
  {
   "cell_type": "markdown",
   "metadata": {
    "id": "52pVps19lybi"
   },
   "source": [
    "🖼 Составляем входные данные\n",
    "---"
   ]
  },
  {
   "cell_type": "markdown",
   "metadata": {
    "id": "nNMj6CHsi-xF"
   },
   "source": [
    "Загружаем датасеты и делаем их нужного размера"
   ]
  },
  {
   "cell_type": "code",
   "execution_count": null,
   "metadata": {
    "id": "goPCJNij216T"
   },
   "outputs": [],
   "source": [
    "# #@title Загружаем датасет двумерных картинок fashion-MNIST и преобразуем его в тензоры размером Dim_XY на Dim_XY\n",
    "# dataset = torchvision.datasets.FashionMNIST(pics_folder_Path+\"/datasets/\", download=True, \n",
    "#     transform=transforms.Compose([transforms.ToTensor(), transforms.Resize(Dim_XY, interpolation=transforms.InterpolationMode.BILINEAR, max_size=None, antialias='True')]))"
   ]
  },
  {
   "cell_type": "code",
   "execution_count": null,
   "metadata": {},
   "outputs": [],
   "source": [
    "# #@title Загружаем датасет двумерных иероглифов КMNIST и преобразуем его в тензоры размером Dim_XY на Dim_XY\n",
    "dataset = torchvision.datasets.KMNIST(pics_folder_Path+\"/datasets/\", download=True, \n",
    "    transform=transforms.Compose([transforms.ToTensor(), transforms.Resize(Dim_XY, interpolation=transforms.InterpolationMode.BILINEAR, max_size=None, antialias='True')]))"
   ]
  },
  {
   "cell_type": "code",
   "execution_count": null,
   "metadata": {
    "id": "B6YPA-eV24hA"
   },
   "outputs": [],
   "source": [
    "#@title Трансформируем данные датасета в необходимый формат: Обратное изображение, обратное изображение без паддинга, прямое изображение с паддингом, прямое изображение.\n",
    "data = transforms.Resize(Dim_XY, \n",
    "                         interpolation=transforms.InterpolationMode.BILINEAR, \n",
    "                         max_size=None, antialias='True'\n",
    "                         )(dataset.data[:Dataset_Size*2]).to(torch.float32)\n",
    "\n",
    "data = transforms.Normalize((0.5),(255))(data)\n",
    "\n",
    "data = transforms.RandomRotation(degrees=(0, 180))(data)\n",
    "data = transforms.RandomVerticalFlip(p=0.5)(data)\n",
    "data = transforms.GaussianBlur(15, sigma=7)(data)\n",
    "\n",
    "real_D = torch.nn.functional.pad(data, (Padding,Padding,Padding,Padding))\n",
    "imag_D = torch.zeros_like(real_D)\n",
    "\n",
    "full_D = torch.complex(real_D, imag_D)\n",
    "\n",
    "f_full_D = fftn_shift(full_D, dim=(-2,-1))\n",
    "\n",
    "f_ampl_D = torch.abs(f_full_D)\n",
    "f_phase_D = torch.angle(f_full_D)\n",
    "\n",
    "\n",
    "real_D_nopad = data\n",
    "imag_D_nopad = torch.zeros_like(real_D_nopad)\n",
    "\n",
    "full_D_nopad = torch.complex(real_D_nopad, imag_D_nopad)\n",
    "\n",
    "f_full_D_nopad = fftn_shift(full_D_nopad, dim=(-2,-1))\n",
    "f_ampl_D_nopad = torch.abs(f_full_D_nopad)\n",
    "f_phase_D_nopad = torch.angle(f_full_D_nopad)"
   ]
  },
  {
   "cell_type": "code",
   "execution_count": null,
   "metadata": {
    "colab": {
     "base_uri": "https://localhost:8080/",
     "height": 488
    },
    "id": "jXz2kTxQ266O",
    "outputId": "65cabaa7-b42d-42f4-fcde-01ed0417a47d"
   },
   "outputs": [],
   "source": [
    "#@title Создаем датасет и лоадер\n",
    "\n",
    "dataset_T = torch.utils.data.TensorDataset(f_ampl_D[:Dataset_Size].unsqueeze(1),f_ampl_D_nopad[:Dataset_Size].unsqueeze(1),real_D[:Dataset_Size].unsqueeze(1),real_D_nopad[:Dataset_Size].unsqueeze(1))\n",
    "loader_T = torch.utils.data.DataLoader(dataset_T, batch_size=Batch_Size)\n",
    "\n",
    "dataset_Check = torch.utils.data.TensorDataset(f_ampl_D[Dataset_Size:Dataset_Size*2].unsqueeze(1),f_ampl_D_nopad[Dataset_Size:Dataset_Size*2].unsqueeze(1),real_D[Dataset_Size:Dataset_Size*2].unsqueeze(1),real_D_nopad[Dataset_Size:Dataset_Size*2].unsqueeze(1))\n",
    "loader_Check = torch.utils.data.DataLoader(dataset_Check, batch_size=Batch_Size)\n",
    "\n",
    "iter_test = iter(loader_T)"
   ]
  },
  {
   "cell_type": "code",
   "execution_count": null,
   "metadata": {
    "colab": {
     "base_uri": "https://localhost:8080/",
     "height": 488
    },
    "id": "jXz2kTxQ266O",
    "outputId": "65cabaa7-b42d-42f4-fcde-01ed0417a47d"
   },
   "outputs": [],
   "source": [
    "f_ampl_D_Example, f_ampl_D_nopad_Example, real_D_Example, real_D_nopad_Example = next(iter_test)\n",
    "f_ampl_D_Example.squeeze_(1)\n",
    "f_ampl_D_nopad_Example.squeeze_(1)\n",
    "real_D_Example.squeeze_(1)\n",
    "real_D_nopad_Example.squeeze_(1)\n",
    "print(f_ampl_D_Example.size())\n",
    "\n",
    "fig_orig, ax_orig = plt.subplots(2,3,figsize=(14,8))\n",
    "plot_image(real_D_Example[0].numpy(), ax_orig[0][0], cmap='gray')\n",
    "plot_image(f_ampl_D_Example[0].abs().numpy(), ax_orig[0][1], cmap='gray')\n",
    "plot_image(ifftn_shift(f_ampl_D_Example[0]).real.numpy(), ax_orig[0][2], cmap='gray')\n",
    "plot_image(real_D_nopad_Example[0].numpy(), ax_orig[1][0], cmap='gray')\n",
    "plot_image(f_ampl_D_nopad_Example[0].abs().numpy(), ax_orig[1][1], cmap='gray')\n",
    "plot_image(ifftn_shift(f_ampl_D_nopad_Example[0]).real.numpy(), ax_orig[1][2], cmap='gray')"
   ]
  },
  {
   "cell_type": "markdown",
   "metadata": {
    "id": "TrCIwFCjIgGd"
   },
   "source": [
    "Открываем картинки вещественных и мнимых значений как массивы\n",
    "\n",
    "---\n",
    "\n",
    "1. Тк обрабатываем все послойно, то с размерами проблемы нет\n",
    "2. Паддинг ухудшает сходимость, но дает огромное улучшение результата. Без него не разделяются дейст. и мним. части."
   ]
  },
  {
   "cell_type": "code",
   "execution_count": null,
   "metadata": {
    "colab": {
     "base_uri": "https://localhost:8080/",
     "height": 376
    },
    "id": "lbxhdI55lxML",
    "outputId": "c574b101-7b48-4deb-f8d0-1589cf286cce"
   },
   "outputs": [],
   "source": [
    "if Real_Imag_Swap_ON:\n",
    "    real_Arr = np.asarray(Image.open(pics_Path+'imag.png').resize((Dim_XY, Dim_XY), Image.Resampling.LANCZOS).convert('L'))\n",
    "    # imag_Arr = np.asarray(Image.open(pics_Path+'real.png').resize((Dim_XY, Dim_XY), Image.ANTIALIAS).convert('L'))\n",
    "else:\n",
    "    real_Arr = np.asarray(Image.open(pics_Path+'real.png').resize((Dim_XY, Dim_XY), Image.Resampling.LANCZOS).convert('L'))\n",
    "    # imag_Arr = np.asarray(Image.open(pics_Path+'imag.png').resize((Dim_XY, Dim_XY), Image.ANTIALIAS).convert('L'))\n",
    "\n",
    "\n",
    "# Нормируем картинки\n",
    "real_Arr = real_Arr/255\n",
    "\n",
    "# Загружаем разные картинки\n",
    "if Different_ON:\n",
    "    if Original_Is_Real_ON:\n",
    "        real_Arr = np.asarray(Image.open(pics_Path+'real.png').resize((Dim_XY, Dim_XY), Image.Resampling.LANCZOS).convert('L'))\n",
    "    else:\n",
    "        real_Arr = np.asarray(Image.open(pics_Path+'imag.png').resize((Dim_XY, Dim_XY), Image.Resampling.LANCZOS).convert('L'))\n",
    "\n",
    "    if Different_Is_Real_ON:\n",
    "        imag_Arr = np.asarray(Image.open(imag_pics_Path+'real.png').resize((Dim_XY, Dim_XY), Image.Resampling.LANCZOS).convert('L'))\n",
    "    else:\n",
    "        imag_Arr = np.asarray(Image.open(imag_pics_Path+'imag.png').resize((Dim_XY, Dim_XY), Image.Resampling.LANCZOS).convert('L'))\n",
    "\n",
    "\n",
    "# Заменяем картинки на белый фон\n",
    "if Real_Zeros_ON:\n",
    "    real_Arr = np.zeros((Dim_XY, Dim_XY))\n",
    "if Imag_Zeros_ON:\n",
    "    imag_Arr = np.zeros((Dim_XY, Dim_XY))\n",
    "\n",
    "\n",
    "# Загружаем картинки из локала\n",
    "if Real_My_ON:\n",
    "    uploaded = list(files.upload())\n",
    "    real_Arr = np.asarray(Image.open('/content/'+uploaded[0]).resize((Dim_XY, Dim_XY), Image.Resampling.LANCZOS).convert('L'))\n",
    "    rm_str = \"'/content/\"+uploaded[0]+\"'\"\n",
    "    %rm {rm_str}\n",
    "\n",
    "if Imag_My_ON:\n",
    "    uploaded = list(files.upload())\n",
    "    imag_Arr = np.asarray(Image.open('/content/'+uploaded[0]).resize((Dim_XY, Dim_XY), Image.Resampling.LANCZOS).convert('L'))\n",
    "    rm_str = \"'/content/\"+uploaded[0]+\"'\"\n",
    "    %rm {rm_str}\n",
    "\n",
    "\n",
    "# Добавляем Паддинг\n",
    "real_Arr_no_pad = real_Arr.copy()\n",
    "imag_Arr_no_pad = imag_Arr.copy()\n",
    "\n",
    "real_Arr = np.pad(real_Arr, Padding)\n",
    "imag_Arr = np.pad(imag_Arr, Padding)\n",
    "\n",
    "# Создаем маску паддинга\n",
    "mask_Arr = np.pad(np.full_like(real_Arr_no_pad, False), Padding, mode='constant', constant_values=True) \n",
    "\n",
    "\n",
    "fig_orig, ax_orig = plt.subplots(1,2,figsize=(14,8))\n",
    "\n",
    "plot_image(real_Arr, ax_orig[0], cmap='gray')\n",
    "plot_image(imag_Arr, ax_orig[1], cmap='gray')"
   ]
  },
  {
   "cell_type": "markdown",
   "metadata": {
    "id": "QWAZWtYOo7QT"
   },
   "source": [
    "---\n",
    "1. Преобразуем данные в тензоры\n",
    "2. Вычисляем тензор амплитуд и фаз\n",
    "3. Вычисляем тензор амплитуд и фаз фурье-образа\n",
    "4. Аналогично делаем для транспонированных картинок"
   ]
  },
  {
   "cell_type": "code",
   "execution_count": null,
   "metadata": {
    "colab": {
     "base_uri": "https://localhost:8080/",
     "height": 1000
    },
    "id": "uI28FgTwo6vp",
    "outputId": "f206f644-e12b-47a9-ae7b-f2d2b76e6ca1"
   },
   "outputs": [],
   "source": [
    "real_Ten = torch.from_numpy(real_Arr).to(torch.float).to(device) # Скрытая от ИНН информация\n",
    "imag_Ten = torch.from_numpy(imag_Arr).to(torch.float).to(device) # Скрытая от ИНН информация\n",
    "mask_Ten = torch.from_numpy(mask_Arr).to(torch.bool).to(device) # Известная ИНН информация \n",
    "\n",
    "full_Ten = torch.complex(real_Ten, imag_Ten)\n",
    "print(full_Ten.dtype)\n",
    "\n",
    "ampl_Ten = torch.abs(full_Ten) # Известная ИНН информация \n",
    "phase_Ten = torch.angle(full_Ten) # Скрытая от ИНН информация\n",
    "f_ampl_Ten = torch.abs(fftn_shift(full_Ten)) # Известная ИНН информация \n",
    "f_phase_Ten = torch.angle(fftn_shift(full_Ten)) # Скрытая от ИНН информация \n",
    "\n",
    "fig_ampl, ax_ampl = plt.subplots(1, figsize=(14,8))\n",
    "plot_image(ampl_Ten.detach().cpu().numpy(), ax_ampl, cmap='gray')\n",
    "\n",
    "fig_f_ampl, ax_f_ampl = plt.subplots(1, figsize=(14,8))\n",
    "plot_image(f_ampl_Ten.detach().cpu().numpy(), ax_f_ampl, logscale=True)\n",
    "\n",
    "fig_f_phase, ax_f_phase = plt.subplots(1, figsize=(14,8))\n",
    "plot_image(f_phase_Ten.detach().cpu().numpy(), ax_f_phase, cmap='twilight')"
   ]
  },
  {
   "cell_type": "code",
   "execution_count": null,
   "metadata": {
    "colab": {
     "base_uri": "https://localhost:8080/",
     "height": 1000
    },
    "id": "ot5Oh38Ljdbj",
    "outputId": "42632e42-2c3d-4421-da6c-6bbe5974454e"
   },
   "outputs": [],
   "source": [
    "real_Ten_no_pad = torch.from_numpy(real_Arr_no_pad).to(torch.float32).to(device) # Скрытая от ИНН информация\n",
    "imag_Ten_no_pad = torch.from_numpy(imag_Arr_no_pad).to(torch.float32).to(device) # Скрытая от ИНН информация\n",
    "\n",
    "full_Ten_no_pad = torch.complex(real_Ten_no_pad, imag_Ten_no_pad)\n",
    "\n",
    "ampl_Ten_no_pad = torch.abs(full_Ten_no_pad) # Известная ИНН информация \n",
    "phase_Ten_no_pad = torch.angle(full_Ten_no_pad) # Скрытая от ИНН информация\n",
    "f_ampl_Ten_no_pad = torch.abs(fftn_shift(full_Ten_no_pad)) # Известная ИНН информация \n",
    "f_phase_Ten_no_pad = torch.angle(fftn_shift(full_Ten_no_pad)) # Скрытая от ИНН информация \n",
    "\n",
    "fig_ampl, ax_ampl = plt.subplots(1, figsize=(14,8))\n",
    "plot_image(ampl_Ten_no_pad.detach().cpu().numpy(), ax_ampl, cmap='gray')\n",
    "\n",
    "fig_f_ampl, ax_f_ampl = plt.subplots(1, figsize=(14,8))\n",
    "plot_image(f_ampl_Ten_no_pad.detach().cpu().numpy(), ax_f_ampl, logscale=True)\n",
    "\n",
    "fig_f_phase, ax_f_phase = plt.subplots(1, figsize=(14,8))\n",
    "plot_image(f_phase_Ten_no_pad.detach().cpu().numpy(), ax_f_phase, cmap='twilight')"
   ]
  },
  {
   "cell_type": "markdown",
   "metadata": {
    "id": "C6OeRKMYn8sn"
   },
   "source": [
    "🤖 Создаем версию нейронной сети\n",
    "---\n"
   ]
  },
  {
   "cell_type": "markdown",
   "metadata": {
    "id": "S-rMC8r6IHw2"
   },
   "source": [
    "Нейросеть получает на вход тензор попиксельных амплитуд фурье-образа и его транспонированный вариант, которые должна перевести в тензор попиксельных фаз фурье-образа путем вычисления среднего между обычным и дважды транспонированными тензорами.\n",
    "\n",
    "---\n",
    "\n",
    "1. Сигмоида перед последним слоем абсолютно необходима. "
   ]
  },
  {
   "cell_type": "code",
   "execution_count": null,
   "metadata": {
    "colab": {
     "base_uri": "https://localhost:8080/"
    },
    "id": "Xb6NIyNGn7rm",
    "outputId": "7db52ac0-1a54-429f-a9b6-c66a81f535e8"
   },
   "outputs": [],
   "source": [
    "Dim_XY_P = Dim_XY+Padding*2\n",
    "\n",
    "class PhaseSolver(torch.nn.Module):\n",
    "    def __init__(self):\n",
    "        super().__init__()\n",
    "        \n",
    "        self.batch_size = Batch_Size\n",
    "        self.pic_num = 10\n",
    "        \n",
    "        self.c1 = torch.nn.Sequential(\n",
    "            torch.nn.Conv2d(1, 4 * self.pic_num, kernel_size=3, stride=1, padding='same'),\n",
    "            # nn.BatchNorm2d(num_features=4),\n",
    "            torch.nn.ReLU(),\n",
    "            # torch.nn.Conv2d(4, 4, kernel_size=5, stride=1, padding=2),\n",
    "            torch.nn.MaxPool2d(kernel_size=2, stride=2),\n",
    "            torch.nn.Dropout(0.1),\n",
    "            )\n",
    "        \n",
    "        self.c2 = torch.nn.Sequential(\n",
    "            torch.nn.Conv2d(4 * self.pic_num, 16 * self.pic_num, kernel_size=3, stride=1, padding='same'),\n",
    "            torch.nn.ReLU(),\n",
    "            torch.nn.MaxPool2d(kernel_size=2, stride=2),\n",
    "            torch.nn.Dropout(0.1),\n",
    "            )\n",
    "        \n",
    "        self.l1 = torch.nn.LazyLinear(int(1*Dim_XY_P**2))\n",
    "        self.r1 = torch.nn.ReLU()\n",
    "        \n",
    "        self.l_d1 = torch.nn.Dropout(0.25)\n",
    "        \n",
    "        self.lp = torch.nn.LazyLinear(int(1*Dim_XY_P**2))\n",
    "        self.sp = torch.nn.Sigmoid()\n",
    "        \n",
    "        self.l_pics = torch.nn.LazyLinear(Dim_XY_P**2)\n",
    "        \n",
    "        self.klass_c1 = torch.nn.Sequential(\n",
    "            torch.nn.Conv2d(1, 4, kernel_size=3, stride=1, padding='same'),\n",
    "            torch.nn.ReLU(),\n",
    "            torch.nn.MaxPool2d(kernel_size=2, stride=2),\n",
    "            torch.nn.Dropout(0.1),\n",
    "            )\n",
    "        \n",
    "        self.klass_c2 = torch.nn.Sequential(\n",
    "            torch.nn.Conv2d(4, 16, kernel_size=3, stride=1, padding='same'),\n",
    "            torch.nn.ReLU(),\n",
    "            torch.nn.MaxPool2d(kernel_size=2, stride=2),\n",
    "            torch.nn.Dropout(0.1),\n",
    "            )\n",
    "        \n",
    "        self.klass_l1 = torch.nn.LazyLinear(Dim_XY_P)\n",
    "        self.klass_r1 = torch.nn.ReLU()\n",
    "        \n",
    "        self.klass_l_d1 = torch.nn.Dropout(0.25)\n",
    "        \n",
    "        self.klass_lp = torch.nn.LazyLinear(self.pic_num)\n",
    "        self.klass_Softp = torch.nn.Softmax(dim = -1)\n",
    "        \n",
    "\n",
    "    def print_filters(self, n,x):\n",
    "        n = math.ceil(math.sqrt(n))\n",
    "        fig, ax = plt.subplots(n,n, figsize=(8,7))\n",
    "        for i in range(n):\n",
    "            for j in range(n):\n",
    "                plot_image(x[n*i+j], ax[i][j], cmap='gray', title=str(n*i+j+1), fontsize=8, logscale=True)\n",
    "        plt.show()\n",
    "    \n",
    "    def forward(self, x, filter_pic_fl = 0):\n",
    "        \n",
    "        x = self.c1(x)\n",
    "        x = self.c2(x)\n",
    "        \n",
    "        x = x.view(self.batch_size, self.pic_num, -1)\n",
    "        \n",
    "        x = self.l1(x)\n",
    "        x = self.r1(x)\n",
    "        \n",
    "        x = self.l_d1(x)\n",
    "\n",
    "        x = self.lp(x)\n",
    "        x = self.sp(x)\n",
    "\n",
    "        x = self.l_pics(x)\n",
    "        \n",
    "        x_pics = x.view(self.batch_size, self.pic_num, Dim_XY_P, Dim_XY_P)\n",
    "        x = x.view(self.batch_size * self.pic_num, 1, Dim_XY_P, Dim_XY_P)\n",
    "        \n",
    "        # Классифицируем картинки\n",
    "        x = self.klass_c1(x)\n",
    "        x = self.klass_c2(x)\n",
    "        \n",
    "        x = x.view(self.batch_size, -1)\n",
    "        \n",
    "        x = self.klass_l1(x)\n",
    "        x = self.klass_r1(x)\n",
    "        \n",
    "        x = self.klass_l_d1(x)\n",
    "\n",
    "        x = self.klass_lp(x)\n",
    "        x = self.klass_Softp(x)\n",
    "\n",
    "        x = torch.sum(x.view(self.batch_size,self.pic_num, 1, 1) * x_pics, dim=-3).view(self.batch_size, 1, Dim_XY_P, Dim_XY_P)\n",
    "        \n",
    "        return x\n",
    "    \n",
    "    \n",
    "PS = PhaseSolver().to(device)\n",
    "PS.train()"
   ]
  },
  {
   "cell_type": "markdown",
   "metadata": {
    "id": "KRXZMy2-GXvs"
   },
   "source": [
    "Загружаем модель"
   ]
  },
  {
   "cell_type": "code",
   "execution_count": null,
   "metadata": {
    "id": "WoXmn2L8GeJP"
   },
   "outputs": [],
   "source": [
    "# Load_ON = True\n",
    "# Load_ON = False\n",
    "if Load_ON:\n",
    "    PS = torch.load(model_folder_Path+model_filename, map_location=torch.device(device))"
   ]
  },
  {
   "cell_type": "markdown",
   "metadata": {
    "id": "G-NoEuHWosWd"
   },
   "source": [
    "Инициализируем модель"
   ]
  },
  {
   "cell_type": "code",
   "execution_count": null,
   "metadata": {
    "colab": {
     "base_uri": "https://localhost:8080/",
     "height": 70
    },
    "id": "tcF0sgUzosBw",
    "outputId": "2ccdbfc5-0d09-4135-9b80-fad24224591d"
   },
   "outputs": [],
   "source": [
    "import datetime\n",
    "PS.train()\n",
    "batch_iter = next(iter(loader_T)) \n",
    "time = datetime.datetime.now()\n",
    "test_res = PS(batch_iter[0].to(device))\n",
    "print(datetime.datetime.now()-time)\n",
    "print(test_res.size())\n",
    "# make_dot(test_res, params=dict(list(PS.named_parameters()))).render(\"/content/rnn_torchviz\", format=\"png\")"
   ]
  },
  {
   "cell_type": "markdown",
   "metadata": {
    "id": "TADeoo-QGofP"
   },
   "source": [
    "Проверяем размеры модели"
   ]
  },
  {
   "cell_type": "code",
   "execution_count": null,
   "metadata": {
    "colab": {
     "base_uri": "https://localhost:8080/"
    },
    "id": "ttNSFNNpGnTN",
    "outputId": "b792ab39-ffdd-4f0f-94fa-29dbc07d5b07"
   },
   "outputs": [],
   "source": [
    "!nvidia-smi\n",
    "# summary(PS, batch_iter[0].size())"
   ]
  },
  {
   "cell_type": "markdown",
   "metadata": {
    "id": "I-dvsgqtp8OR"
   },
   "source": [
    "🏃Составляем оптимизатор и функцию ошибки. Запускаем цикл обучения.\n",
    "---\n"
   ]
  },
  {
   "cell_type": "markdown",
   "metadata": {
    "id": "Cupputo4IvaI"
   },
   "source": [
    "Функция Ошибки:\n",
    "1. Получаем на вход угаданный тензор фаз фурье-образа, известный тензор амплитуд фурье-образа и известный тензор амплитуд картинки.\n",
    "2. Делаем попиксельное вычисление фурье-образа путем умножения амплитуды на косинус+синус*i фазы.\n",
    "3. Вычисляем угаданную картинку обратным преобразованием фурье.\n",
    "4. Возвращаем сумму квадратов разниц между значениями угаданой и известной амплитудой картинок как Ошибку.\n",
    "\n",
    "---\n",
    "\n",
    "1. AdamW - лушчий. Adam - чуть хуже, NAdam хуже, SGD не сходится.\n",
    "2. lr можно понизить на порядок когда loss начинает \"подпрыгивать\".\n",
    "\n",
    "---\n",
    "1. Результат становится \"хорошим\" при loss = 5 (+-1 для разных картинок)\n",
    "2. Отличный результат при loss < 1"
   ]
  },
  {
   "cell_type": "code",
   "execution_count": null,
   "metadata": {
    "id": "QkQ5oyZ3mv1x"
   },
   "outputs": [],
   "source": [
    "import datetime\n",
    "Train_Sum_Time = 0\n",
    "last_loss = float('inf')\n",
    "last_lr = 0.0001\n",
    "\n",
    "optimizer = torch.optim.AdamW(PS.parameters(), lr=last_lr)\n",
    "# optimizer = torch.optim.Adam(PS.parameters(), lr=0.00001)\n",
    "# optimizer = torch.optim.NAdam(PS.parameters(), lr=0.0002)\n",
    "# optimizer = torch.optim.SGD(PS.parameters(), lr=lr, momentum = 0.2)\n",
    "\n",
    "\n",
    "MSE = nn.MSELoss(reduction='mean')\n",
    "def PS_Loss(f_phas_Ten_Sum, f_ampl_Ten, f_ampl_Ten_no_pad, cheat_ampl_Ten, mask_Ten = mask_Ten):\n",
    "    \n",
    "    \n",
    "    #==========================================================================================\n",
    "    # !!!!!!!!!!!!!!!!!! TODO: У ДЕЙСТВИТЕЛЬНОЙ ЧАСТИ ТОЛЬКО ПОЛОЖИТЕЛЬНЫЕ ВЕЛИЧИНЫ !!!!!!!!!!!\n",
    "    # !!!!!!!!!!!!!!!!!! TODO: ПЕРЕБОР В СЕТИ ПО ПРОМЕЖУТКУ [0;2pi] !!!!!!!!!!!\n",
    "    #==========================================================================================\n",
    "    ANN_f_result_Ten = f_ampl_Ten * (torch.cos(f_phas_Ten_Sum) + torch.sin(f_phas_Ten_Sum)*1j)\n",
    "    \n",
    "    ANN_comp_Ten = ifftn_shift(ANN_f_result_Ten, dim=(-2,-1))\n",
    "    ANN_comp_Ten_no_pad = ANN_comp_Ten[:, :, Padding:-Padding, Padding:-Padding]\n",
    "    ANN_f_ampl_Ten_no_pad = torch.abs(fftn_shift(ANN_comp_Ten_no_pad, dim=(-2,-1)))\n",
    "    \n",
    "\n",
    "    loss_phase = MSE(ANN_f_ampl_Ten_no_pad, f_ampl_Ten_no_pad.abs())\n",
    "    loss_d_phase = MSE(torch.angle(ANN_comp_Ten_no_pad), torch.zeros_like(ANN_comp_Ten_no_pad.real))  #*10\n",
    "    loss_imag = MSE(ANN_comp_Ten_no_pad.imag, torch.zeros_like(ANN_comp_Ten_no_pad.imag))\n",
    "    loss_pad = MSE(ANN_comp_Ten.real[:,:,mask_Ten], torch.zeros_like(ANN_comp_Ten.real[:,:,mask_Ten])) *1000 *10\n",
    "    loss_cheat = MSE(ANN_comp_Ten_no_pad.abs()*255,cheat_ampl_Ten*255)\n",
    "\n",
    "    loss = loss_cheat + loss_pad + loss_d_phase\n",
    "\n",
    "    return loss, loss_cheat, loss_pad, loss_d_phase\n",
    "\n",
    "def train_model(epochs_Num):\n",
    "    global Train_Sum_Time\n",
    "    global optimizer\n",
    "    global last_loss\n",
    "    global last_lr\n",
    "    lr_cnt = 0\n",
    "\n",
    "    for t in range(epochs_Num+1):  \n",
    "        Epoch_Time = datetime.datetime.now()\n",
    "        loss, loss_cheat, loss_pad, loss_d_phas = 0, 0, 0, 0\n",
    "        for f_images, f_images_nopad, cheat_images, cheat_images_nopad in loader_T:\n",
    "            # Перекладываем тензоры в GPU\n",
    "            f_images, f_images_nopad, cheat_images, cheat_images_nopad = (f_images.to(device), \n",
    "                                                                          f_images_nopad.to(device), \n",
    "                                                                          cheat_images.to(device), \n",
    "                                                                          cheat_images_nopad.to(device))\n",
    "\n",
    "            out_train = PS(f_images)\n",
    "\n",
    "            loss, loss_cheat, loss_pad, loss_d_phas = PS_Loss(out_train, f_images, f_images_nopad, cheat_images_nopad)\n",
    "            # loss, loss_phase, loss_imag, loss_pad = PS_Loss(f_phas_Ten)\n",
    "            # loss, loss_phase, loss_imag = PS_Loss(f_phas_Ten)\n",
    "            # loss, loss_imag, loss_pad = PS_Loss(f_phas_Ten)\n",
    "            # loss = PS_Loss(f_phas_Ten)\n",
    "            optimizer.zero_grad()\n",
    "            loss.backward()\n",
    "            optimizer.step()\n",
    "\n",
    "        delta_Time = datetime.datetime.now() - Epoch_Time\n",
    "        Train_Sum_Time += (datetime.datetime.now() - Epoch_Time).total_seconds()\n",
    "        \n",
    "      # if t % (epochs_Num/1000) == 0:\n",
    "        if True:\n",
    "            if Save_ON:\n",
    "                if t % (epochs_Num/50) == 0:\n",
    "                    torch.save(PS, model_folder_Path+model_filename)\n",
    "            print('%-4s' % (str(int(t/epochs_Num*1000))+'‰'),\n",
    "                '- Ep: '+ '%-5s'%str(t), \n",
    "                '- LSum: '+'%10s'%('%.6f'%loss.item()), \n",
    "                # '- LPha: '+'%10s'%('%.6f'%loss_phase.item()), \n",
    "                # '- LIma: '+'%10s'%('%.6f'%loss_imag.item()), \n",
    "                '- LD_CHEAT: '+'%10s'%('%.6f'%loss_cheat.item()), \n",
    "                '- LDPhas: '+'%10s'%('%.6f'%loss_d_phas.item()), \n",
    "                '- LPad: '+'%10s'%('%.6f'%loss_pad.item()), \n",
    "                '- Sec: '+'%6s'%'%.2f'%round(Train_Sum_Time,2), \n",
    "                '- Log10(Lr): ' + '%2s' % str(int(-math.log10(last_lr))), \n",
    "                '- Mem: ' + str(torch.cuda.memory_allocated('cuda')))\n",
    "\n",
    "        if loss.item() <= loss_break:\n",
    "            break\n",
    "\n",
    "        if last_loss < loss.item():\n",
    "            lr_cnt += 1\n",
    "            if lr_cnt >= 5:\n",
    "                lr_cnt = 0\n",
    "                last_lr = last_lr/10\n",
    "                optimizer.zero_grad()\n",
    "                optimizer = torch.optim.AdamW(PS.parameters(), lr=last_lr)\n",
    "                optimizer.zero_grad()\n",
    "                last_loss = float('inf')\n",
    "            else:\n",
    "                lr_cnt = 0\n",
    "        last_loss = loss.item()"
   ]
  },
  {
   "cell_type": "code",
   "execution_count": null,
   "metadata": {
    "colab": {
     "base_uri": "https://localhost:8080/",
     "height": 480
    },
    "id": "Udo56YSoufR3",
    "outputId": "4add00fd-2db1-4313-c4e3-c9733228df80",
    "scrolled": true
   },
   "outputs": [],
   "source": [
    "if Train_ON:\n",
    "    PS.train()\n",
    "    Data_Str = '\\nКартинки: ' + str(pics_Name) + '\\nРазмер: ' + str(Dim_XY)+'x'+str(Dim_XY) + '\\nПаддинг: ' + str(Padding)\n",
    "    print(Data_Str)\n",
    "    # !nvidia-smi\n",
    "    train_model(epochs_Num)"
   ]
  },
  {
   "cell_type": "code",
   "execution_count": null,
   "metadata": {
    "colab": {
     "base_uri": "https://localhost:8080/",
     "height": 311
    },
    "id": "pEjzzlYJjdbn",
    "outputId": "907b99dd-f0c4-42fc-c76a-efc9267d0d0a"
   },
   "outputs": [],
   "source": [
    "PS(f_ampl_Ten)"
   ]
  },
  {
   "cell_type": "markdown",
   "metadata": {
    "id": "sv39bET8Xnd1"
   },
   "source": [
    "🎁Сохраняем модель\n",
    "---"
   ]
  },
  {
   "cell_type": "code",
   "execution_count": null,
   "metadata": {
    "id": "P-_sGxD3Xm8R"
   },
   "outputs": [],
   "source": [
    "if Save_ON:\n",
    "    torch.save(PS, model_folder_Path+model_filename)"
   ]
  },
  {
   "cell_type": "markdown",
   "metadata": {
    "id": "rvorA4uWsrNm"
   },
   "source": [
    "⚛ Рисуем получившиеся картинки\n",
    "---"
   ]
  },
  {
   "cell_type": "markdown",
   "metadata": {
    "id": "gM4NV88AI0rn"
   },
   "source": [
    "Угаданные действ. и мним. части изображения перед выводом отдельно abs().\n",
    "\n",
    "---\n",
    "1. Сдвиг фазы обязательно нужно подобрать, иначе неверно считаются дельты.\n",
    "2. Порядок вывода: Угаданное, Оригинал, Дельта\n",
    "3. Нажатие на картинку ее увеличивает, но проще открыть в отдельной вкладке."
   ]
  },
  {
   "cell_type": "code",
   "execution_count": null,
   "metadata": {
    "cellView": "code",
    "id": "RW9Yxlpdsqv0"
   },
   "outputs": [],
   "source": [
    "#@title Настройки вывода\n",
    "    \n",
    "def init_graphs(phase_shift, f_ampl_Ten=f_ampl_Ten.detach().cpu(), phase_Ten_no_pad=phase_Ten_no_pad.detach().cpu(), real_Ten=real_Ten_no_pad.detach().cpu(), imag_Ten=imag_Ten_no_pad.abs().detach().cpu()):\n",
    "    global ANN_real_Arr\n",
    "    global ANN_imag_Arr\n",
    "    global ANN_phase_Arr\n",
    "    global ANN_f_phase_Arr\n",
    "    global nopad_real_Arr\n",
    "    global nopad_imag_Arr\n",
    "    global nopad_phase_Arr\n",
    "    global nopad_f_phase_Arr\n",
    "\n",
    "  \n",
    "\n",
    "    # Сдвиг фазы для верного сопостовления действительной и мнимой частей\n",
    "    #@markdown Сдвиг фазы происходит на pi/2 * phase_shift\n",
    "    # Подготавливаем данные\n",
    "    f_ampl_Ten = f_ampl_Ten.view(1, 1, Dim_XY_P,Dim_XY_P)\n",
    "\n",
    "    PS.eval()\n",
    "    ANN_phase_res = PS(f_ampl_Ten.to(device))+math.pi/2*phase_shift\n",
    "    PS.train()\n",
    "    ANN_phase_res = ANN_phase_res.detach().cpu()\n",
    "    ANN_f_result_Ten = f_ampl_Ten*(torch.cos(ANN_phase_res) + torch.sin(ANN_phase_res)*1j)\n",
    "    ANN_result_Ten = ifftn_shift(ANN_f_result_Ten, dim=(-2,-1))\n",
    "    if Padding > 0: # Убираем паддинг\n",
    "        ANN_result_Ten = ANN_result_Ten[:,:,Padding:-Padding, Padding:-Padding]\n",
    "\n",
    "    ANN_real_Ten = ANN_result_Ten.real.cpu().detach()\n",
    "    ANN_imag_Ten = ANN_result_Ten.imag.cpu().detach()\n",
    "    ANN_phase_Ten = torch.angle(ANN_result_Ten).cpu().detach()\n",
    "    # ANN_real_Ten = torch.nn.functional.interpolate(ANN_real_Ten.unsqueeze(0).unsqueeze(0), scale_factor=(Dim_XY/ANN_real_Ten.size(0),Dim_XY/ANN_real_Ten.size(1)), mode='bilinear', align_corners=False).squeeze(0).squeeze(0)\n",
    "    # ANN_imag_Ten = torch.nn.functional.interpolate(ANN_imag_Ten.unsqueeze(0).unsqueeze(0), scale_factor=(Dim_XY/ANN_imag_Ten.size(0),Dim_XY/ANN_imag_Ten.size(1)), mode='bilinear', align_corners=False).squeeze(0).squeeze(0)\n",
    "\n",
    "\n",
    "    ANN_real_Arr = ANN_real_Ten.view(Dim_XY,Dim_XY).numpy()\n",
    "    ANN_imag_Arr = ANN_imag_Ten.view(Dim_XY,Dim_XY).numpy()\n",
    "    ANN_phase_Arr = ANN_phase_Ten.view(Dim_XY,Dim_XY).numpy()\n",
    "    ANN_phase_Arr[ANN_real_Arr <= 0.01] = 0\n",
    "\n",
    "    ANN_f_phase_Arr = torch.angle(ANN_f_result_Ten).cpu().detach().numpy()\n",
    "\n",
    "    real_Arr = real_Ten.view(Dim_XY,Dim_XY).detach().cpu().numpy()\n",
    "    imag_Arr = imag_Ten.view(Dim_XY,Dim_XY).detach().cpu().numpy()\n",
    "    nopad_phase_Arr = torch.angle(torch.complex(real_Ten,imag_Ten)).view(Dim_XY,Dim_XY).cpu().detach().numpy()\n",
    "    nopad_real_Arr = real_Arr\n",
    "    nopad_imag_Arr = imag_Arr\n",
    "\n",
    "    ANN_f_all_Ten = fftn_shift(torch.from_numpy(ANN_real_Arr + ANN_imag_Arr*1j))\n",
    "    ANN_f_phase_Arr = torch.angle(ANN_f_all_Ten).numpy()\n",
    "\n",
    "    nopad_f_phase_Arr = torch.angle(fftn_shift(torch.complex(real_Ten,imag_Ten).view(Dim_XY,Dim_XY))).cpu().detach().numpy()"
   ]
  },
  {
   "cell_type": "code",
   "execution_count": null,
   "metadata": {
    "id": "eeAw-9g1jdbr"
   },
   "outputs": [],
   "source": [
    "Delta_Range = ()\n",
    "Delta_Range = list(Delta_Range)\n",
    "    \n",
    "def graph_print(pic = None, pic_phase_nopad = None, pic_real = None, pic_imag = None, iter_num = 0, phase_print=False):\n",
    "    right_phase_shift = 0\n",
    "    min_mean = float('inf')\n",
    "    \n",
    "    for phase_shift in range(4):\n",
    "        if pic == None:\n",
    "          init_graphs(phase_shift)\n",
    "        else:\n",
    "          init_graphs(phase_shift, pic, pic_phase_nopad, pic_real, pic_imag)\n",
    "\n",
    "        mean = np.mean(ring_alg(ANN_f_phase_Arr, nopad_f_phase_Arr)).item(0)/math.pi*100\n",
    "        if min_mean > mean:\n",
    "            right_phase_shift = phase_shift\n",
    "            min_mean = mean\n",
    "\n",
    "    if pic == None:\n",
    "        init_graphs(right_phase_shift)\n",
    "    else:\n",
    "        init_graphs(right_phase_shift, pic, pic_phase_nopad, pic_real, pic_imag)\n",
    "        \n",
    "    # # Выводим параметры\n",
    "    # Data_Str = 'Картинки: ' + str(pics_Name) + '\\nРазмер: ' + str(Dim_XY) + '\\nПаддинг: ' + str(Padding) + '\\nИттерация: ' + str(iter_num)\n",
    "    # Data_fig, Data_ax = plt.subplots(figsize=(28,4))\n",
    "    # Data_ax.get_xaxis().set_visible(False)\n",
    "    # Data_ax.get_yaxis().set_visible(False)\n",
    "    # Data_fig.text(0.2, 0.5, Data_Str, ha='left', va='center', size=45)\n",
    "    # plt.show()\n",
    "\n",
    "    # Выводим действ. картинки\n",
    "    ANN_fig_real, ANN_ax_real = plt.subplots(1,3, figsize=(28,8))\n",
    "    ANN_fig_real.suptitle('Real part', fontsize=24)\n",
    "\n",
    "    plot_image(np.abs(ANN_real_Arr), ANN_ax_real[0], cmap='gray', title=\"Result\", vmin=0, vmax=1)\n",
    "    plot_image(nopad_real_Arr, ANN_ax_real[1], cmap='gray', title=\"Original\", vmin=0, vmax=1)\n",
    "    plot_image(np.abs(np.abs(ANN_real_Arr)-nopad_real_Arr), ANN_ax_real[2], cmap='gray', title=\"Delta\", vmin=0, vmax=1)\n",
    "    plt.show()\n",
    "\n",
    "#     # Выводим \"отбивку\"\n",
    "#     Data_fig, Data_ax = plt.subplots(figsize=(28,0.5))\n",
    "#     Data_ax.get_xaxis().set_visible(False)\n",
    "#     Data_ax.get_yaxis().set_visible(False)\n",
    "#     plt.show()\n",
    "\n",
    "    # # Выводим мним. картинки\n",
    "    # ANN_fig_imag, ANN_ax_imag = plt.subplots(1,3, figsize=(28,8))\n",
    "    # ANN_fig_imag.suptitle('Imaginary part', fontsize=24)\n",
    "    # plot_image(np.abs(ANN_imag_Arr), ANN_ax_imag[0], cmap='gray', title=\"Result\", vmin=0, vmax=1)\n",
    "    # plot_image(nopad_imag_Arr, ANN_ax_imag[1], cmap='gray', title=\"Original\", vmin=0, vmax=1)\n",
    "    # plot_image(np.abs(np.abs(ANN_imag_Arr)-nopad_imag_Arr), ANN_ax_imag[2], cmap='gray', title=\"Delta\", vmin=0, vmax=1)\n",
    "\n",
    "    # Считаем ошибку по фазе обратного пространства\n",
    "    Delta_Range.append(round(np.mean(ring_alg(ANN_f_phase_Arr, nopad_f_phase_Arr)).item(0)/math.pi*100))\n",
    "    if phase_print:\n",
    "      # Выводим \"отбивку\"\n",
    "      Data_fig, Data_ax = plt.subplots(figsize=(28,0.5))\n",
    "      Data_ax.get_xaxis().set_visible(False)\n",
    "      Data_ax.get_yaxis().set_visible(False)\n",
    "      plt.show()\n",
    "\n",
    "\n",
    "      # Выводим фазы фурье-образа\n",
    "      ANN_fig_f_phase, ANN_ax_f_phase = plt.subplots(1,3, figsize=(28,8))\n",
    "      ANN_fig_f_phase.suptitle('Direct Phases', fontsize=24)\n",
    "      plot_image(ANN_phase_Arr, ANN_ax_f_phase[0], cmap='twilight', title=\"Result\", vmin=-math.pi, vmax=math.pi)\n",
    "      plot_image(nopad_phase_Arr, ANN_ax_f_phase[1], cmap='twilight', title=\"Original\", vmin=-math.pi, vmax=math.pi)\n",
    "      plot_image(ring_alg(ANN_phase_Arr, nopad_phase_Arr), ANN_ax_f_phase[2], cmap='gray', title=\"Delta\")\n",
    "      \n",
    "      # # Выводим \"отбивку\"\n",
    "      # Data_fig, Data_ax = plt.subplots(figsize=(28,0.5))\n",
    "      # Data_ax.get_xaxis().set_visible(False)\n",
    "      # Data_ax.get_yaxis().set_visible(False)\n",
    "      # plt.show()\n",
    "\n",
    "\n",
    "      # Выводим фазы фурье-образа картинок без паддинга\n",
    "      ANN_fig_f_nopad_phase, ANN_ax_nopad_f_phase = plt.subplots(1,3, figsize=(28,8))\n",
    "      ANN_fig_f_nopad_phase.suptitle('Fourie Transform Phases No Padding', fontsize=24)\n",
    "      plot_image(ANN_f_phase_Arr, ANN_ax_nopad_f_phase[0], cmap='twilight', title=\"Result\", vmin=-math.pi, vmax=math.pi)\n",
    "      plot_image(nopad_f_phase_Arr, ANN_ax_nopad_f_phase[1], cmap='twilight', title=\"Original\", vmin=-math.pi, vmax=math.pi)\n",
    "      plot_image(ring_alg(ANN_f_phase_Arr, nopad_f_phase_Arr), ANN_ax_nopad_f_phase[2], cmap='gray', title=\"Delta\", vmin=0, vmax=math.pi)\n"
   ]
  },
  {
   "cell_type": "code",
   "execution_count": null,
   "metadata": {
    "id": "0i0o20OqMLKE"
   },
   "outputs": [],
   "source": [
    "train_iter = iter(loader_T)"
   ]
  },
  {
   "cell_type": "code",
   "execution_count": null,
   "metadata": {
    "colab": {
     "base_uri": "https://localhost:8080/",
     "height": 1000
    },
    "id": "qGFZ4I-X0Ki1",
    "outputId": "edef7c48-8a8d-4ebe-d448-e927e8ab600c"
   },
   "outputs": [],
   "source": [
    "max_pic = 5\n",
    "PS.batch_size = 1\n",
    "i = 0\n",
    "for pic_epoch in train_iter:\n",
    "  for pic_batch in range(Batch_Size):\n",
    "    graph_print(pic_epoch[0][pic_batch], pic_epoch[1][pic_batch], pic_epoch[3][pic_batch], torch.zeros_like(pic_epoch[3][pic_batch]), i)\n",
    "    i += 1\n",
    "    if i >= max_pic:\n",
    "      break\n",
    "  if i >= max_pic:\n",
    "      break\n"
   ]
  },
  {
   "cell_type": "code",
   "execution_count": null,
   "metadata": {
    "colab": {
     "base_uri": "https://localhost:8080/"
    },
    "id": "Jtehr_8L0Lj8",
    "outputId": "c2ba0699-adbc-45f7-fc7d-db56df2d5ebe"
   },
   "outputs": [],
   "source": [
    "print(Delta_Range)"
   ]
  },
  {
   "cell_type": "code",
   "execution_count": null,
   "metadata": {
    "id": "N70tgkRwGxeH"
   },
   "outputs": [],
   "source": [
    "check_iter = iter(loader_Check)"
   ]
  },
  {
   "cell_type": "code",
   "execution_count": null,
   "metadata": {
    "colab": {
     "base_uri": "https://localhost:8080/",
     "height": 1000
    },
    "id": "SvNdblqRGwZc",
    "outputId": "62668eff-2df9-46bb-e8ec-cdef0c47a849"
   },
   "outputs": [],
   "source": [
    "max_pic = 100\n",
    "i = 0\n",
    "PS.batch_size = 1\n",
    "for pic_epoch in check_iter:\n",
    "  for pic_batch in range(Batch_Size):\n",
    "    graph_print(pic_epoch[0][pic_batch], pic_epoch[1][pic_batch], pic_epoch[3][pic_batch], torch.zeros_like(pic_epoch[3][pic_batch]), i)\n",
    "    i += 1\n",
    "    if i >= max_pic:\n",
    "      break\n",
    "  if i >= max_pic:\n",
    "    break\n"
   ]
  },
  {
   "cell_type": "code",
   "execution_count": null,
   "metadata": {
    "id": "tfq8PPqPUNOn"
   },
   "outputs": [],
   "source": [
    "graph_print()"
   ]
  },
  {
   "cell_type": "code",
   "execution_count": null,
   "metadata": {
    "colab": {
     "base_uri": "https://localhost:8080/",
     "height": 629
    },
    "id": "PmjrDFlw8-Ye",
    "outputId": "6b9537f6-4273-444b-99d0-cd42d35a0713"
   },
   "outputs": [],
   "source": [
    "init_graphs(0)\n",
    "\n",
    "ANN_fig_real, ANN_ax_real = plt.subplots(1,3, figsize=(28,8))\n",
    "ANN_fig_real.suptitle('Real part 0', fontsize=24)\n",
    "\n",
    "ANN_real_Arr_export = ANN_real_Arr\n",
    "ANN_real_Arr_export[ANN_real_Arr_export>1] = 1\n",
    "ANN_real_Arr_export[ANN_real_Arr_export<0] = 0\n",
    "\n",
    "plot_image(np.abs(ANN_real_Arr), ANN_ax_real[0], cmap='gray', title=\"Result\", vmin=0, vmax=1)\n",
    "plot_image(nopad_real_Arr, ANN_ax_real[1], cmap='gray', title=\"Original\", vmin=0, vmax=1)\n",
    "plot_image(np.abs(np.abs(ANN_real_Arr)-nopad_real_Arr), ANN_ax_real[2], cmap='gray', title=\"Delta\", vmin=0, vmax=1)\n",
    "plt.show()\n",
    "Image.fromarray(np.abs(ANN_real_Arr*255).astype(np.uint8)).save(\"ANN0.png\")\n",
    "\n",
    "#===============================\n",
    "init_graphs(1)\n",
    "\n",
    "ANN_real_Arr_export = ANN_real_Arr\n",
    "ANN_real_Arr_export[ANN_real_Arr_export>1] = 1\n",
    "ANN_real_Arr_export[ANN_real_Arr_export<0] = 0\n",
    "\n",
    "ANN_fig_real, ANN_ax_real = plt.subplots(1,3, figsize=(28,8))\n",
    "ANN_fig_real.suptitle('Real part 1', fontsize=24)\n",
    "\n",
    "plot_image(np.abs(ANN_real_Arr), ANN_ax_real[0], cmap='gray', title=\"Result\", vmin=0, vmax=1)\n",
    "plot_image(nopad_real_Arr, ANN_ax_real[1], cmap='gray', title=\"Original\", vmin=0, vmax=1)\n",
    "plot_image(np.abs(np.abs(ANN_real_Arr)-nopad_real_Arr), ANN_ax_real[2], cmap='gray', title=\"Delta\", vmin=0, vmax=1)\n",
    "plt.show()\n",
    "Image.fromarray(np.abs(ANN_real_Arr*255).astype(np.uint8)).save(\"ANN1.png\")\n",
    "Image.fromarray(np.abs(nopad_real_Arr*255).astype(np.uint8)).save(\"nopad_real.png\")\n"
   ]
  },
  {
   "cell_type": "code",
   "execution_count": null,
   "metadata": {},
   "outputs": [],
   "source": []
  },
  {
   "cell_type": "code",
   "execution_count": null,
   "metadata": {},
   "outputs": [],
   "source": []
  },
  {
   "cell_type": "code",
   "execution_count": null,
   "metadata": {},
   "outputs": [],
   "source": []
  }
 ],
 "metadata": {
  "colab": {
   "provenance": []
  },
  "gpuClass": "standard",
  "kernelspec": {
   "display_name": "MOD",
   "language": "python",
   "name": "mod"
  },
  "language_info": {
   "codemirror_mode": {
    "name": "ipython",
    "version": 3
   },
   "file_extension": ".py",
   "mimetype": "text/x-python",
   "name": "python",
   "nbconvert_exporter": "python",
   "pygments_lexer": "ipython3",
   "version": "3.9.15"
  }
 },
 "nbformat": 4,
 "nbformat_minor": 4
}
